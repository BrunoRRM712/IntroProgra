{
 "cells": [
  {
   "cell_type": "markdown",
   "metadata": {},
   "source": [
    "# Capítulo 1.1 Computación\n",
    "### Miércoles 12 de febrero de 2020"
   ]
  },
  {
   "cell_type": "markdown",
   "metadata": {},
   "source": [
    "## ¿Qué es computación?\n",
    "\n",
    "En su definición más amplia, la computación se define como todo lo que involucre computadoras de alguna manera, desde el diseño de componentes físicos que hacen un dispositivo hasta el diseño de sistemas masivos, como el Internet, que usan principios de computación."
   ]
  },
  {
   "cell_type": "markdown",
   "metadata": {},
   "source": [
    "## ¿Qué es programación?\n",
    "\n",
    "Es la acción de crear instrucciones para que una computadora las ejecute, por ejemplo:\n",
    "* Sumar 5 + 3\n",
    "* Entrar a google.com\n",
    "* Guardar un documento\n",
    "\n",
    ">Incluso si no estamos escribiendo código nosotros mismos, puede que estemos diseñando hardware que correrá el código. Ser capaces de programar es como ser capaces de hablar un lenguaje. El objetivo no es sólo aprender a escribir código, sino aprender a comunicarnos dentro de una comunidad que usa el código como su lenguaje"
   ]
  },
  {
   "cell_type": "markdown",
   "metadata": {},
   "source": [
    "## Vocabulario\n",
    "\n",
    "**Código:** Instrucciones dadas a una computadora para ejecutarlas. \n",
    "\n",
    "**Línea de código:** Por lo general, es una sola instrucción para que la computadora la ejecute.\n",
    "\n",
    "**Programa:** Una colección independiente de líneas de código que sirve para uno o más propósitos.\n",
    "\n",
    "**Entrada:** Datos que son alimentados a un programa para que opere sobre ellos.\n",
    "\n",
    "**Salida:** Lo que la computadora retorna o devuelve luego de ejecutar líneas de código.\n",
    "\n",
    "**Compilar:** Traducir código legible a humanos a instrucciones que una computadora puede ejecutar. En el flujo de programación, esto funciona como un chequeo del código que el usuario ha escrito para asegurarse que la computadora lo entenderá.\n",
    "\n",
    "**Ejecutar:** Correr el código y que la computadora realice las operaciones indicadas."
   ]
  },
  {
   "cell_type": "markdown",
   "metadata": {},
   "source": [
    "## Lenguajes de programación\n",
    "\n",
    "Al igual que los lenguajes escritos, los lenguajes de programación tienen sintaxis, vocabularios, estructuras diferentes.\n",
    "\n",
    "Hay muchas formas de categorizar los lenguajes. Por ejemplo:\n",
    "\n",
    "* Lenguajes **estáticos** requieren compilacion, mientras que los lenguajes **dinámicos** no.\n",
    "* Lenguajes de **alto nivel** involucran un gran nivel de abstracción de los detalles de bajo nivel como manejor de memoria, mientras que los lenguajes de **bajo nivel** requieren que los programadores hagan muchas más cosas manualmente.\n",
    "\n",
    "Cada lenguaje es mejor que otros para propósitos específicos. Si estamos desarrollando un videojuego complejo, tal vez queremos tener un mejor manejo de los pequeños detalles o cómo se manejan las cosas. Si estamos interesados en diseñar rápidamente, puede que nos interese un lenguaje que no nos obligue a pensar en estos detalles.\n",
    "\n",
    "[TIOBE](https://www.tiobe.com/tiobe-index/) evalúa cientos de lenguaje de programación con respecto a su popularidad.\n",
    "\n",
    "Python es el lenguaje dinámico más popular, y es usado muy frecuentemente como primer lenguaje dado que tiene sintaxis más simple y hace muchos conceptos más claros."
   ]
  },
  {
   "cell_type": "markdown",
   "metadata": {},
   "source": [
    "**Interfaces gráficas de usuarios (GUIs):** Son sistemas que involucran formas de salida más alla de solamente texto, y entradas más que texto. Son aplicaciones muy útiles pero también muy complicadas.\n",
    "\n",
    "Empezaremos usando programas en consola, quitando todo lo posible para enfocarnos en nuestro programas.\n",
    "\n",
    "**Consola:** Es un medio de salida de un programa en el que se muestra exclusivamente texto."
   ]
  },
  {
   "cell_type": "markdown",
   "metadata": {},
   "source": [
    "> Aprender a programar es como aprender a hablar el lenguaje de las computadores. Si bien uno de los objetivos es aprender a programar, es sólo una pequeña parte de computación. La computación se trata de lo que decimos con ese lenguaje.\n",
    "\n",
    "> Frecuentemente nos enfocamos en la programación, y nos olvidamos de los conceptos fundamentales de computación.\n",
    "\n",
    "Usaremos **fundamentos** de computación, los implementaremos en un **lenguaje** y los aplicaremos a un **dominio** específico."
   ]
  },
  {
   "cell_type": "markdown",
   "metadata": {},
   "source": [
    "## Vocabulario\n",
    "\n",
    "**Debugging:** Es el proceso de encontrar y corregir errores en un programa.\n",
    "\n",
    "**Programación procedimental:** Es la idea general de escribir secuencias de instrucciones para que la computadora las ejecute.\n",
    "\n",
    "**Variables:** Son la forma en que los programas almacenan información. Podemos crearlas y modificarlas. El concepto principal es que las variables tienen **valores**.\n",
    "\n",
    "**Operadores lógicos:** Establecen las relaciones de verdad o falsedad entre variables en nuestros programas.\n",
    "\n",
    "**Operadores matemáticos:** Modifican los valores de nuestras variables.\n",
    "\n",
    "**Estructuras de control:** Son líneas de código que controlan otras líneas de código.\n",
    "\n",
    "**Condicionales:** Líneas de código que revisan ciertas expresiones lógicas (condiciones) para decidir si ciertos bloques de código deberían ser ejecutados.\n",
    "\n",
    "**Bucles (loops):** Líneas de código que instruyen a la computadora repetir un bloque de código hasta que cierta condición es cumplida.\n",
    "\n",
    "**Funciones:** Son programas en miniatura dentro de un programa más grande. Nos permiten hacer referencias a bloques de código que podemos usar en cualquier momento de la ejecución, cada una con su propias entradas y salidas.\n",
    "\n",
    "**Manejo de excepciones:** Es usar condicionales para manejar errores. Son líneas de código que le instruyen a la computadora cómo fallar \"con gracia\" cuando encuentra errores.\n",
    "\n",
    "**Estructuras de datos:** Son las ideas generales de tipos de datos más complejos que números o letras individuales.\n",
    "\n",
    "**Cadenas (strings):** Series ordenadas de caracteres. Es el término programático para texto.\n",
    "\n",
    "**Listas:** Series ordenadas de otros tipos de datos, bajo una misma variable y accesible via índices numéricos.\n",
    "\n",
    "**Entrada y salida de archivos:** Es la forma en que almacenamos información entre ejecuciones de nuestros programas. Son basados en texto.\n",
    "\n",
    "**Diccionarios:** Pares de llaves y valores bajo una misma variable, como listas pero con índices no numéricos.\n",
    "\n",
    "**Objetos:** Son tipos de datos personalizados para inyectar nuestra lógica del mundo a nuestros programas.\n",
    "\n",
    "**Algoritmos:** Son secuencias complejas de instrucciones que transforman nuestros datos o generan conclusiones útiles."
   ]
  },
  {
   "cell_type": "markdown",
   "metadata": {},
   "source": [
    "## Python\n",
    "\n",
    "Python es un lenguaje de programación **dinámico de alto nivel,** creado a inicios de 1990.\n",
    "\n",
    "Es de alto nivel porque tiene varios niveles de abstracción del procesador y la memoria. Esto hace que sea más portable, es decir, es independiente de la plataforma.\n",
    "\n",
    "Es dinámico e interpretado, lo cual nos permitirá ingresar y ejecutar nuestro código línea por línea, casi como una calculadora.\n",
    "\n",
    "También tiene un modo de scripting en el que podemos ejecutar todo nuestro código al mismo tiempo.\n"
   ]
  },
  {
   "cell_type": "markdown",
   "metadata": {},
   "source": [
    "## Recursos adicionales\n",
    "\n",
    "* http://openbookproject.net/thinkcs/python/english3e/foreword.html\n",
    "* http://www.bloomberg.com/graphics/2015-paul-ford-what-is-code/\n",
    "* https://learnpythonthehardway.org/book/\n",
    "* http://interactivepython.org/courselib/static/thinkcspy/GeneralIntro/ThePythonProgrammingLanguage.html\n",
    "\n",
    "\n",
    "* https://www.codecademy.com/learn/python\n",
    "* https://developers.google.com/edu/python/\n",
    "* https://cs50.harvard.edu/\n",
    "\n",
    "\n",
    "* http://stackoverflow.com/\n",
    "* https://github.com/"
   ]
  }
 ],
 "metadata": {
  "kernelspec": {
   "display_name": "Python 3",
   "language": "python",
   "name": "python3"
  },
  "language_info": {
   "codemirror_mode": {
    "name": "ipython",
    "version": 3
   },
   "file_extension": ".py",
   "mimetype": "text/x-python",
   "name": "python",
   "nbconvert_exporter": "python",
   "pygments_lexer": "ipython3",
   "version": "3.7.3"
  }
 },
 "nbformat": 4,
 "nbformat_minor": 2
}
